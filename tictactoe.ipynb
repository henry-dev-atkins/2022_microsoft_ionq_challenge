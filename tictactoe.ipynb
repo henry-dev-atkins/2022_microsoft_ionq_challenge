{
 "cells": [
  {
   "cell_type": "markdown",
   "metadata": {},
   "source": [
    "# Quantum Tic Tac Toe on IonQ's QPU"
   ]
  },
  {
   "cell_type": "code",
   "execution_count": 2,
   "metadata": {},
   "outputs": [
    {
     "data": {
      "text/html": [
       "<pre style=\"white-space:pre;overflow-x:auto;line-height:normal;font-family:Menlo,'DejaVu Sans Mono',consolas,'Courier New',monospace\"><span style=\"font-weight: bold\">[</span><span style=\"color: #008000; text-decoration-color: #008000\">'ionq.qpu'</span>, <span style=\"color: #008000; text-decoration-color: #008000\">'ionq.simulator'</span><span style=\"font-weight: bold\">]</span>\n",
       "</pre>\n"
      ],
      "text/plain": [
       "\u001b[1m[\u001b[0m\u001b[32m'ionq.qpu'\u001b[0m, \u001b[32m'ionq.simulator'\u001b[0m\u001b[1m]\u001b[0m\n"
      ]
     },
     "metadata": {},
     "output_type": "display_data"
    },
    {
     "data": {
      "text/html": [
       "<pre style=\"white-space:pre;overflow-x:auto;line-height:normal;font-family:Menlo,'DejaVu Sans Mono',consolas,'Courier New',monospace\"><span style=\"color: #000000; text-decoration-color: #000000; background-color: #808000; font-weight: bold; font-style: italic\">Welcome to Tic Tac Toe!</span>\n",
       "\n",
       "</pre>\n"
      ],
      "text/plain": [
       "\u001b[1;3;5;30;43mWelcome to Tic Tac Toe!\u001b[0m\n",
       "\n"
      ]
     },
     "metadata": {},
     "output_type": "display_data"
    },
    {
     "data": {
      "text/html": [
       "<pre style=\"white-space:pre;overflow-x:auto;line-height:normal;font-family:Menlo,'DejaVu Sans Mono',consolas,'Courier New',monospace\"><span style=\"color: #008000; text-decoration-color: #008000; font-weight: bold; font-style: italic\">Instructions:</span>\n",
       "</pre>\n"
      ],
      "text/plain": [
       "\u001b[1;3;32mInstructions:\u001b[0m\n"
      ]
     },
     "metadata": {},
     "output_type": "display_data"
    },
    {
     "data": {
      "text/html": [
       "<pre style=\"white-space:pre;overflow-x:auto;line-height:normal;font-family:Menlo,'DejaVu Sans Mono',consolas,'Courier New',monospace\"><span style=\"color: #008080; text-decoration-color: #008080; font-weight: bold\">0</span>. X's turn applies an X and H gate on the\n",
       "   position.\n",
       "</pre>\n"
      ],
      "text/plain": [
       "\u001b[1;36m0\u001b[0m. X's turn applies an X and H gate on the\n",
       "   position.\n"
      ]
     },
     "metadata": {},
     "output_type": "display_data"
    },
    {
     "data": {
      "text/html": [
       "<pre style=\"white-space:pre;overflow-x:auto;line-height:normal;font-family:Menlo,'DejaVu Sans Mono',consolas,'Courier New',monospace\"><span style=\"color: #008080; text-decoration-color: #008080; font-weight: bold\">1</span>. O's turn applies a H gate on the position.\n",
       "</pre>\n"
      ],
      "text/plain": [
       "\u001b[1;36m1\u001b[0m. O's turn applies a H gate on the position.\n"
      ]
     },
     "metadata": {},
     "output_type": "display_data"
    },
    {
     "data": {
      "text/html": [
       "<pre style=\"white-space:pre;overflow-x:auto;line-height:normal;font-family:Menlo,'DejaVu Sans Mono',consolas,'Courier New',monospace\"><span style=\"color: #008080; text-decoration-color: #008080; font-weight: bold\">2</span>. Select the cell to take your turn <span style=\"font-weight: bold\">(</span><span style=\"color: #008080; text-decoration-color: #008080; font-weight: bold\">0</span>-<span style=\"color: #008080; text-decoration-color: #008080; font-weight: bold\">8</span><span style=\"font-weight: bold\">)</span>. A <span style=\"color: #008000; text-decoration-color: #008000\">'1'</span>\n",
       "   will be placed for X's turn and a <span style=\"color: #008000; text-decoration-color: #008000\">'0'</span> for O's\n",
       "   turn.\n",
       "</pre>\n"
      ],
      "text/plain": [
       "\u001b[1;36m2\u001b[0m. Select the cell to take your turn \u001b[1m(\u001b[0m\u001b[1;36m0\u001b[0m-\u001b[1;36m8\u001b[0m\u001b[1m)\u001b[0m. A \u001b[32m'1'\u001b[0m\n",
       "   will be placed for X's turn and a \u001b[32m'0'\u001b[0m for O's\n",
       "   turn.\n"
      ]
     },
     "metadata": {},
     "output_type": "display_data"
    },
    {
     "data": {
      "text/html": [
       "<pre style=\"white-space:pre;overflow-x:auto;line-height:normal;font-family:Menlo,'DejaVu Sans Mono',consolas,'Courier New',monospace\"><span style=\"color: #008080; text-decoration-color: #008080; font-weight: bold\">3</span>. Players may take their turn on existing cells\n",
       "   to change its state.\n",
       "</pre>\n"
      ],
      "text/plain": [
       "\u001b[1;36m3\u001b[0m. Players may take their turn on existing cells\n",
       "   to change its state.\n"
      ]
     },
     "metadata": {},
     "output_type": "display_data"
    },
    {
     "data": {
      "text/html": [
       "<pre style=\"white-space:pre;overflow-x:auto;line-height:normal;font-family:Menlo,'DejaVu Sans Mono',consolas,'Courier New',monospace\"><span style=\"color: #008080; text-decoration-color: #008080; font-weight: bold\">4</span>. To entangle two cells, players can apply the\n",
       "   CX gate to two cells through the command\n",
       "   CX <span style=\"font-weight: bold\">(</span>first cell<span style=\"font-weight: bold\">)</span> <span style=\"font-weight: bold\">(</span>second cell<span style=\"font-weight: bold\">)</span>.\n",
       "</pre>\n"
      ],
      "text/plain": [
       "\u001b[1;36m4\u001b[0m. To entangle two cells, players can apply the\n",
       "   CX gate to two cells through the command\n",
       "   CX \u001b[1m(\u001b[0mfirst cell\u001b[1m)\u001b[0m \u001b[1m(\u001b[0msecond cell\u001b[1m)\u001b[0m.\n"
      ]
     },
     "metadata": {},
     "output_type": "display_data"
    },
    {
     "data": {
      "text/html": [
       "<pre style=\"white-space:pre;overflow-x:auto;line-height:normal;font-family:Menlo,'DejaVu Sans Mono',consolas,'Courier New',monospace\"><span style=\"color: #008080; text-decoration-color: #008080; font-weight: bold\">5</span>. When a player wants to use the current state\n",
       "   of the board to get results, they can measure it\n",
       "   with <span style=\"color: #008000; text-decoration-color: #008000\">'m'</span>.\n",
       "</pre>\n"
      ],
      "text/plain": [
       "\u001b[1;36m5\u001b[0m. When a player wants to use the current state\n",
       "   of the board to get results, they can measure it\n",
       "   with \u001b[32m'm'\u001b[0m.\n"
      ]
     },
     "metadata": {},
     "output_type": "display_data"
    },
    {
     "data": {
      "text/html": [
       "<pre style=\"white-space:pre;overflow-x:auto;line-height:normal;font-family:Menlo,'DejaVu Sans Mono',consolas,'Courier New',monospace\"><span style=\"color: #008080; text-decoration-color: #008080; font-weight: bold\">6</span>. Have fun!\n",
       "\n",
       "</pre>\n"
      ],
      "text/plain": [
       "\u001b[1;36m6\u001b[0m. Have fun!\n",
       "\n"
      ]
     },
     "metadata": {},
     "output_type": "display_data"
    },
    {
     "data": {
      "text/html": [
       "<pre style=\"white-space:pre;overflow-x:auto;line-height:normal;font-family:Menlo,'DejaVu Sans Mono',consolas,'Courier New',monospace\">\n",
       "\n",
       "</pre>\n"
      ],
      "text/plain": [
       "\n",
       "\n"
      ]
     },
     "metadata": {},
     "output_type": "display_data"
    },
    {
     "data": {
      "text/html": [
       "<pre style=\"white-space:pre;overflow-x:auto;line-height:normal;font-family:Menlo,'DejaVu Sans Mono',consolas,'Courier New',monospace\"><span style=\"color: #008000; text-decoration-color: #008000\"> Please choose a quantum backend </span><span style=\"color: #008000; text-decoration-color: #008000; font-weight: bold\">(</span><span style=\"color: #008000; text-decoration-color: #008000; font-weight: bold\">1</span><span style=\"color: #008000; text-decoration-color: #008000; font-weight: bold\">)</span><span style=\"color: #008000; text-decoration-color: #008000\"> for simulator, </span><span style=\"color: #008000; text-decoration-color: #008000; font-weight: bold\">(</span><span style=\"color: #008000; text-decoration-color: #008000; font-weight: bold\">2</span><span style=\"color: #008000; text-decoration-color: #008000; font-weight: bold\">)</span><span style=\"color: #008000; text-decoration-color: #008000\"> for qpu: </span>\n",
       "</pre>\n"
      ],
      "text/plain": [
       "\u001b[32m Please choose a quantum backend \u001b[0m\u001b[1;32m(\u001b[0m\u001b[1;32m1\u001b[0m\u001b[1;32m)\u001b[0m\u001b[32m for simulator, \u001b[0m\u001b[1;32m(\u001b[0m\u001b[1;32m2\u001b[0m\u001b[1;32m)\u001b[0m\u001b[32m for qpu: \u001b[0m\n"
      ]
     },
     "metadata": {},
     "output_type": "display_data"
    },
    {
     "data": {
      "text/html": [
       "<pre style=\"white-space:pre;overflow-x:auto;line-height:normal;font-family:Menlo,'DejaVu Sans Mono',consolas,'Courier New',monospace\">\n",
       "\n",
       "\n",
       "\n",
       "\n",
       "</pre>\n"
      ],
      "text/plain": [
       "\n",
       "\n",
       "\n",
       "\n",
       "\n"
      ]
     },
     "metadata": {},
     "output_type": "display_data"
    },
    {
     "data": {
      "text/html": [
       "<pre style=\"white-space:pre;overflow-x:auto;line-height:normal;font-family:Menlo,'DejaVu Sans Mono',consolas,'Courier New',monospace\">\n",
       "\n",
       "</pre>\n"
      ],
      "text/plain": [
       "\n",
       "\n"
      ]
     },
     "metadata": {},
     "output_type": "display_data"
    },
    {
     "data": {
      "text/html": [
       "<pre style=\"white-space:pre;overflow-x:auto;line-height:normal;font-family:Menlo,'DejaVu Sans Mono',consolas,'Courier New',monospace\"><span style=\"color: #800000; text-decoration-color: #800000; font-weight: bold\">TURN: ❌</span>\n",
       "</pre>\n"
      ],
      "text/plain": [
       "\u001b[1;31mTURN: ❌\u001b[0m\n"
      ]
     },
     "metadata": {},
     "output_type": "display_data"
    },
    {
     "data": {
      "text/html": [
       "<pre style=\"white-space:pre;overflow-x:auto;line-height:normal;font-family:Menlo,'DejaVu Sans Mono',consolas,'Courier New',monospace\"><span style=\"font-style: italic\">    </span><span style=\"color: #008000; text-decoration-color: #008000; font-style: italic\">Board</span><span style=\"font-style: italic\">    </span>\n",
       "╭───┬───┬───╮\n",
       "│   │   │   │\n",
       "├───┼───┼───┤\n",
       "│   │   │   │\n",
       "├───┼───┼───┤\n",
       "│   │   │   │\n",
       "╰───┴───┴───╯\n",
       "</pre>\n"
      ],
      "text/plain": [
       "\u001b[3m    \u001b[0m\u001b[3;32mBoard\u001b[0m\u001b[3m    \u001b[0m\n",
       "╭───┬───┬───╮\n",
       "│   │   │   │\n",
       "├───┼───┼───┤\n",
       "│   │   │   │\n",
       "├───┼───┼───┤\n",
       "│   │   │   │\n",
       "╰───┴───┴───╯\n"
      ]
     },
     "metadata": {},
     "output_type": "display_data"
    },
    {
     "data": {
      "text/html": [
       "<pre style=\"white-space:pre;overflow-x:auto;line-height:normal;font-family:Menlo,'DejaVu Sans Mono',consolas,'Courier New',monospace\">\n",
       "<span style=\"color: #008000; text-decoration-color: #008000\"> Enter the number of the cell you want to mark or </span><span style=\"color: #008000; text-decoration-color: #008000\">'CX (cell 1) (cell 2)'</span><span style=\"color: #008000; text-decoration-color: #008000\"> to entangle or </span><span style=\"color: #008000; text-decoration-color: #008000\">'M'</span><span style=\"color: #008000; text-decoration-color: #008000\"> </span>\n",
       "<span style=\"color: #008000; text-decoration-color: #008000\">to measure: </span>\n",
       "</pre>\n"
      ],
      "text/plain": [
       "\n",
       "\u001b[32m Enter the number of the cell you want to mark or \u001b[0m\u001b[32m'CX \u001b[0m\u001b[32m(\u001b[0m\u001b[32mcell 1\u001b[0m\u001b[32m)\u001b[0m\u001b[32m \u001b[0m\u001b[32m(\u001b[0m\u001b[32mcell 2\u001b[0m\u001b[32m)\u001b[0m\u001b[32m'\u001b[0m\u001b[32m to entangle or \u001b[0m\u001b[32m'M'\u001b[0m\u001b[32m \u001b[0m\n",
       "\u001b[32mto measure: \u001b[0m\n"
      ]
     },
     "metadata": {},
     "output_type": "display_data"
    },
    {
     "data": {
      "text/html": [
       "<pre style=\"white-space:pre;overflow-x:auto;line-height:normal;font-family:Menlo,'DejaVu Sans Mono',consolas,'Courier New',monospace\">\n",
       "\n",
       "</pre>\n"
      ],
      "text/plain": [
       "\n",
       "\n"
      ]
     },
     "metadata": {},
     "output_type": "display_data"
    },
    {
     "data": {
      "text/html": [
       "<pre style=\"white-space:pre;overflow-x:auto;line-height:normal;font-family:Menlo,'DejaVu Sans Mono',consolas,'Courier New',monospace\"><span style=\"color: #800000; text-decoration-color: #800000; font-weight: bold\">TURN: ⭕</span>\n",
       "</pre>\n"
      ],
      "text/plain": [
       "\u001b[1;31mTURN: ⭕\u001b[0m\n"
      ]
     },
     "metadata": {},
     "output_type": "display_data"
    },
    {
     "data": {
      "text/html": [
       "<pre style=\"white-space:pre;overflow-x:auto;line-height:normal;font-family:Menlo,'DejaVu Sans Mono',consolas,'Courier New',monospace\"><span style=\"font-style: italic\">    </span><span style=\"color: #008000; text-decoration-color: #008000; font-style: italic\">Board</span><span style=\"font-style: italic\">     </span>\n",
       "╭────┬───┬───╮\n",
       "│  1 │   │   │\n",
       "├────┼───┼───┤\n",
       "│    │   │   │\n",
       "├────┼───┼───┤\n",
       "│    │   │   │\n",
       "╰────┴───┴───╯\n",
       "</pre>\n"
      ],
      "text/plain": [
       "\u001b[3m    \u001b[0m\u001b[3;32mBoard\u001b[0m\u001b[3m     \u001b[0m\n",
       "╭────┬───┬───╮\n",
       "│  1 │   │   │\n",
       "├────┼───┼───┤\n",
       "│    │   │   │\n",
       "├────┼───┼───┤\n",
       "│    │   │   │\n",
       "╰────┴───┴───╯\n"
      ]
     },
     "metadata": {},
     "output_type": "display_data"
    },
    {
     "data": {
      "text/html": [
       "<pre style=\"white-space:pre;overflow-x:auto;line-height:normal;font-family:Menlo,'DejaVu Sans Mono',consolas,'Courier New',monospace\">\n",
       "<span style=\"color: #008000; text-decoration-color: #008000\"> Enter the number of the cell you want to mark or </span><span style=\"color: #008000; text-decoration-color: #008000\">'CX (cell 1) (cell 2)'</span><span style=\"color: #008000; text-decoration-color: #008000\"> to entangle or </span><span style=\"color: #008000; text-decoration-color: #008000\">'M'</span><span style=\"color: #008000; text-decoration-color: #008000\"> </span>\n",
       "<span style=\"color: #008000; text-decoration-color: #008000\">to measure: </span>\n",
       "</pre>\n"
      ],
      "text/plain": [
       "\n",
       "\u001b[32m Enter the number of the cell you want to mark or \u001b[0m\u001b[32m'CX \u001b[0m\u001b[32m(\u001b[0m\u001b[32mcell 1\u001b[0m\u001b[32m)\u001b[0m\u001b[32m \u001b[0m\u001b[32m(\u001b[0m\u001b[32mcell 2\u001b[0m\u001b[32m)\u001b[0m\u001b[32m'\u001b[0m\u001b[32m to entangle or \u001b[0m\u001b[32m'M'\u001b[0m\u001b[32m \u001b[0m\n",
       "\u001b[32mto measure: \u001b[0m\n"
      ]
     },
     "metadata": {},
     "output_type": "display_data"
    },
    {
     "data": {
      "text/html": [
       "<pre style=\"white-space:pre;overflow-x:auto;line-height:normal;font-family:Menlo,'DejaVu Sans Mono',consolas,'Courier New',monospace\">\n",
       "\n",
       "</pre>\n"
      ],
      "text/plain": [
       "\n",
       "\n"
      ]
     },
     "metadata": {},
     "output_type": "display_data"
    },
    {
     "data": {
      "text/html": [
       "<pre style=\"white-space:pre;overflow-x:auto;line-height:normal;font-family:Menlo,'DejaVu Sans Mono',consolas,'Courier New',monospace\"><span style=\"color: #800000; text-decoration-color: #800000; font-weight: bold\">TURN: ❌</span>\n",
       "</pre>\n"
      ],
      "text/plain": [
       "\u001b[1;31mTURN: ❌\u001b[0m\n"
      ]
     },
     "metadata": {},
     "output_type": "display_data"
    },
    {
     "data": {
      "text/html": [
       "<pre style=\"white-space:pre;overflow-x:auto;line-height:normal;font-family:Menlo,'DejaVu Sans Mono',consolas,'Courier New',monospace\"><span style=\"font-style: italic\">     </span><span style=\"color: #008000; text-decoration-color: #008000; font-style: italic\">Board</span><span style=\"font-style: italic\">     </span>\n",
       "╭────┬───┬────╮\n",
       "│  1 │   │    │\n",
       "├────┼───┼────┤\n",
       "│    │   │  0 │\n",
       "├────┼───┼────┤\n",
       "│    │   │    │\n",
       "╰────┴───┴────╯\n",
       "</pre>\n"
      ],
      "text/plain": [
       "\u001b[3m     \u001b[0m\u001b[3;32mBoard\u001b[0m\u001b[3m     \u001b[0m\n",
       "╭────┬───┬────╮\n",
       "│  1 │   │    │\n",
       "├────┼───┼────┤\n",
       "│    │   │  0 │\n",
       "├────┼───┼────┤\n",
       "│    │   │    │\n",
       "╰────┴───┴────╯\n"
      ]
     },
     "metadata": {},
     "output_type": "display_data"
    },
    {
     "data": {
      "text/html": [
       "<pre style=\"white-space:pre;overflow-x:auto;line-height:normal;font-family:Menlo,'DejaVu Sans Mono',consolas,'Courier New',monospace\">\n",
       "<span style=\"color: #008000; text-decoration-color: #008000\"> Enter the number of the cell you want to mark or </span><span style=\"color: #008000; text-decoration-color: #008000\">'CX (cell 1) (cell 2)'</span><span style=\"color: #008000; text-decoration-color: #008000\"> to entangle or </span><span style=\"color: #008000; text-decoration-color: #008000\">'M'</span><span style=\"color: #008000; text-decoration-color: #008000\"> </span>\n",
       "<span style=\"color: #008000; text-decoration-color: #008000\">to measure: </span>\n",
       "</pre>\n"
      ],
      "text/plain": [
       "\n",
       "\u001b[32m Enter the number of the cell you want to mark or \u001b[0m\u001b[32m'CX \u001b[0m\u001b[32m(\u001b[0m\u001b[32mcell 1\u001b[0m\u001b[32m)\u001b[0m\u001b[32m \u001b[0m\u001b[32m(\u001b[0m\u001b[32mcell 2\u001b[0m\u001b[32m)\u001b[0m\u001b[32m'\u001b[0m\u001b[32m to entangle or \u001b[0m\u001b[32m'M'\u001b[0m\u001b[32m \u001b[0m\n",
       "\u001b[32mto measure: \u001b[0m\n"
      ]
     },
     "metadata": {},
     "output_type": "display_data"
    },
    {
     "data": {
      "text/html": [
       "<pre style=\"white-space:pre;overflow-x:auto;line-height:normal;font-family:Menlo,'DejaVu Sans Mono',consolas,'Courier New',monospace\">\n",
       "\n",
       "</pre>\n"
      ],
      "text/plain": [
       "\n",
       "\n"
      ]
     },
     "metadata": {},
     "output_type": "display_data"
    },
    {
     "data": {
      "text/html": [
       "<pre style=\"white-space:pre;overflow-x:auto;line-height:normal;font-family:Menlo,'DejaVu Sans Mono',consolas,'Courier New',monospace\"><span style=\"color: #800000; text-decoration-color: #800000; font-weight: bold\">TURN: ⭕</span>\n",
       "</pre>\n"
      ],
      "text/plain": [
       "\u001b[1;31mTURN: ⭕\u001b[0m\n"
      ]
     },
     "metadata": {},
     "output_type": "display_data"
    },
    {
     "data": {
      "text/html": [
       "<pre style=\"white-space:pre;overflow-x:auto;line-height:normal;font-family:Menlo,'DejaVu Sans Mono',consolas,'Courier New',monospace\"><span style=\"font-style: italic\">     </span><span style=\"color: #008000; text-decoration-color: #008000; font-style: italic\">Board</span><span style=\"font-style: italic\">     </span>\n",
       "╭────┬───┬────╮\n",
       "│  1 │   │    │\n",
       "├────┼───┼────┤\n",
       "│    │   │  0 │\n",
       "├────┼───┼────┤\n",
       "│  1 │   │    │\n",
       "╰────┴───┴────╯\n",
       "</pre>\n"
      ],
      "text/plain": [
       "\u001b[3m     \u001b[0m\u001b[3;32mBoard\u001b[0m\u001b[3m     \u001b[0m\n",
       "╭────┬───┬────╮\n",
       "│  1 │   │    │\n",
       "├────┼───┼────┤\n",
       "│    │   │  0 │\n",
       "├────┼───┼────┤\n",
       "│  1 │   │    │\n",
       "╰────┴───┴────╯\n"
      ]
     },
     "metadata": {},
     "output_type": "display_data"
    },
    {
     "data": {
      "text/html": [
       "<pre style=\"white-space:pre;overflow-x:auto;line-height:normal;font-family:Menlo,'DejaVu Sans Mono',consolas,'Courier New',monospace\">\n",
       "<span style=\"color: #008000; text-decoration-color: #008000\"> Enter the number of the cell you want to mark or </span><span style=\"color: #008000; text-decoration-color: #008000\">'CX (cell 1) (cell 2)'</span><span style=\"color: #008000; text-decoration-color: #008000\"> to entangle or </span><span style=\"color: #008000; text-decoration-color: #008000\">'M'</span><span style=\"color: #008000; text-decoration-color: #008000\"> </span>\n",
       "<span style=\"color: #008000; text-decoration-color: #008000\">to measure: </span>\n",
       "</pre>\n"
      ],
      "text/plain": [
       "\n",
       "\u001b[32m Enter the number of the cell you want to mark or \u001b[0m\u001b[32m'CX \u001b[0m\u001b[32m(\u001b[0m\u001b[32mcell 1\u001b[0m\u001b[32m)\u001b[0m\u001b[32m \u001b[0m\u001b[32m(\u001b[0m\u001b[32mcell 2\u001b[0m\u001b[32m)\u001b[0m\u001b[32m'\u001b[0m\u001b[32m to entangle or \u001b[0m\u001b[32m'M'\u001b[0m\u001b[32m \u001b[0m\n",
       "\u001b[32mto measure: \u001b[0m\n"
      ]
     },
     "metadata": {},
     "output_type": "display_data"
    },
    {
     "data": {
      "text/html": [
       "<pre style=\"white-space:pre;overflow-x:auto;line-height:normal;font-family:Menlo,'DejaVu Sans Mono',consolas,'Courier New',monospace\">\n",
       "\n",
       "</pre>\n"
      ],
      "text/plain": [
       "\n",
       "\n"
      ]
     },
     "metadata": {},
     "output_type": "display_data"
    },
    {
     "data": {
      "text/html": [
       "<pre style=\"white-space:pre;overflow-x:auto;line-height:normal;font-family:Menlo,'DejaVu Sans Mono',consolas,'Courier New',monospace\"><span style=\"color: #800000; text-decoration-color: #800000; font-weight: bold\">TURN: ❌</span>\n",
       "</pre>\n"
      ],
      "text/plain": [
       "\u001b[1;31mTURN: ❌\u001b[0m\n"
      ]
     },
     "metadata": {},
     "output_type": "display_data"
    },
    {
     "data": {
      "text/html": [
       "<pre style=\"white-space:pre;overflow-x:auto;line-height:normal;font-family:Menlo,'DejaVu Sans Mono',consolas,'Courier New',monospace\"><span style=\"font-style: italic\">     </span><span style=\"color: #008000; text-decoration-color: #008000; font-style: italic\">Board</span><span style=\"font-style: italic\">     </span>\n",
       "╭────┬───┬────╮\n",
       "│  1 │   │    │\n",
       "├────┼───┼────┤\n",
       "│  0 │   │  0 │\n",
       "├────┼───┼────┤\n",
       "│  1 │   │    │\n",
       "╰────┴───┴────╯\n",
       "</pre>\n"
      ],
      "text/plain": [
       "\u001b[3m     \u001b[0m\u001b[3;32mBoard\u001b[0m\u001b[3m     \u001b[0m\n",
       "╭────┬───┬────╮\n",
       "│  1 │   │    │\n",
       "├────┼───┼────┤\n",
       "│  0 │   │  0 │\n",
       "├────┼───┼────┤\n",
       "│  1 │   │    │\n",
       "╰────┴───┴────╯\n"
      ]
     },
     "metadata": {},
     "output_type": "display_data"
    },
    {
     "data": {
      "text/html": [
       "<pre style=\"white-space:pre;overflow-x:auto;line-height:normal;font-family:Menlo,'DejaVu Sans Mono',consolas,'Courier New',monospace\">\n",
       "<span style=\"color: #008000; text-decoration-color: #008000\"> Enter the number of the cell you want to mark or </span><span style=\"color: #008000; text-decoration-color: #008000\">'CX (cell 1) (cell 2)'</span><span style=\"color: #008000; text-decoration-color: #008000\"> to entangle or </span><span style=\"color: #008000; text-decoration-color: #008000\">'M'</span><span style=\"color: #008000; text-decoration-color: #008000\"> </span>\n",
       "<span style=\"color: #008000; text-decoration-color: #008000\">to measure: </span>\n",
       "</pre>\n"
      ],
      "text/plain": [
       "\n",
       "\u001b[32m Enter the number of the cell you want to mark or \u001b[0m\u001b[32m'CX \u001b[0m\u001b[32m(\u001b[0m\u001b[32mcell 1\u001b[0m\u001b[32m)\u001b[0m\u001b[32m \u001b[0m\u001b[32m(\u001b[0m\u001b[32mcell 2\u001b[0m\u001b[32m)\u001b[0m\u001b[32m'\u001b[0m\u001b[32m to entangle or \u001b[0m\u001b[32m'M'\u001b[0m\u001b[32m \u001b[0m\n",
       "\u001b[32mto measure: \u001b[0m\n"
      ]
     },
     "metadata": {},
     "output_type": "display_data"
    },
    {
     "data": {
      "text/html": [
       "<pre style=\"white-space:pre;overflow-x:auto;line-height:normal;font-family:Menlo,'DejaVu Sans Mono',consolas,'Courier New',monospace\">\n",
       "\n",
       "</pre>\n"
      ],
      "text/plain": [
       "\n",
       "\n"
      ]
     },
     "metadata": {},
     "output_type": "display_data"
    },
    {
     "data": {
      "text/html": [
       "<pre style=\"white-space:pre;overflow-x:auto;line-height:normal;font-family:Menlo,'DejaVu Sans Mono',consolas,'Courier New',monospace\"><span style=\"color: #800000; text-decoration-color: #800000; font-weight: bold\">TURN: ⭕</span>\n",
       "</pre>\n"
      ],
      "text/plain": [
       "\u001b[1;31mTURN: ⭕\u001b[0m\n"
      ]
     },
     "metadata": {},
     "output_type": "display_data"
    },
    {
     "data": {
      "text/html": [
       "<pre style=\"white-space:pre;overflow-x:auto;line-height:normal;font-family:Menlo,'DejaVu Sans Mono',consolas,'Courier New',monospace\"><span style=\"font-style: italic\">     </span><span style=\"color: #008000; text-decoration-color: #008000; font-style: italic\">Board</span><span style=\"font-style: italic\">      </span>\n",
       "╭────┬────┬────╮\n",
       "│  1 │    │    │\n",
       "├────┼────┼────┤\n",
       "│  0 │  1 │  0 │\n",
       "├────┼────┼────┤\n",
       "│  1 │    │    │\n",
       "╰────┴────┴────╯\n",
       "</pre>\n"
      ],
      "text/plain": [
       "\u001b[3m     \u001b[0m\u001b[3;32mBoard\u001b[0m\u001b[3m      \u001b[0m\n",
       "╭────┬────┬────╮\n",
       "│  1 │    │    │\n",
       "├────┼────┼────┤\n",
       "│  0 │  1 │  0 │\n",
       "├────┼────┼────┤\n",
       "│  1 │    │    │\n",
       "╰────┴────┴────╯\n"
      ]
     },
     "metadata": {},
     "output_type": "display_data"
    },
    {
     "data": {
      "text/html": [
       "<pre style=\"white-space:pre;overflow-x:auto;line-height:normal;font-family:Menlo,'DejaVu Sans Mono',consolas,'Courier New',monospace\">\n",
       "<span style=\"color: #008000; text-decoration-color: #008000\"> Enter the number of the cell you want to mark or </span><span style=\"color: #008000; text-decoration-color: #008000\">'CX (cell 1) (cell 2)'</span><span style=\"color: #008000; text-decoration-color: #008000\"> to entangle or </span><span style=\"color: #008000; text-decoration-color: #008000\">'M'</span><span style=\"color: #008000; text-decoration-color: #008000\"> </span>\n",
       "<span style=\"color: #008000; text-decoration-color: #008000\">to measure: </span>\n",
       "</pre>\n"
      ],
      "text/plain": [
       "\n",
       "\u001b[32m Enter the number of the cell you want to mark or \u001b[0m\u001b[32m'CX \u001b[0m\u001b[32m(\u001b[0m\u001b[32mcell 1\u001b[0m\u001b[32m)\u001b[0m\u001b[32m \u001b[0m\u001b[32m(\u001b[0m\u001b[32mcell 2\u001b[0m\u001b[32m)\u001b[0m\u001b[32m'\u001b[0m\u001b[32m to entangle or \u001b[0m\u001b[32m'M'\u001b[0m\u001b[32m \u001b[0m\n",
       "\u001b[32mto measure: \u001b[0m\n"
      ]
     },
     "metadata": {},
     "output_type": "display_data"
    },
    {
     "data": {
      "text/html": [
       "<pre style=\"white-space:pre;overflow-x:auto;line-height:normal;font-family:Menlo,'DejaVu Sans Mono',consolas,'Courier New',monospace\">\n",
       "\n",
       "</pre>\n"
      ],
      "text/plain": [
       "\n",
       "\n"
      ]
     },
     "metadata": {},
     "output_type": "display_data"
    },
    {
     "data": {
      "text/html": [
       "<pre style=\"white-space:pre;overflow-x:auto;line-height:normal;font-family:Menlo,'DejaVu Sans Mono',consolas,'Courier New',monospace\"><span style=\"color: #800000; text-decoration-color: #800000; font-weight: bold\">TURN: ❌</span>\n",
       "</pre>\n"
      ],
      "text/plain": [
       "\u001b[1;31mTURN: ❌\u001b[0m\n"
      ]
     },
     "metadata": {},
     "output_type": "display_data"
    },
    {
     "data": {
      "text/html": [
       "<pre style=\"white-space:pre;overflow-x:auto;line-height:normal;font-family:Menlo,'DejaVu Sans Mono',consolas,'Courier New',monospace\"><span style=\"font-style: italic\">      </span><span style=\"color: #008000; text-decoration-color: #008000; font-style: italic\">Board</span><span style=\"font-style: italic\">      </span>\n",
       "╭────┬─────┬────╮\n",
       "│  1 │     │    │\n",
       "├────┼─────┼────┤\n",
       "│  0 │  10 │  0 │\n",
       "├────┼─────┼────┤\n",
       "│  1 │     │    │\n",
       "╰────┴─────┴────╯\n",
       "</pre>\n"
      ],
      "text/plain": [
       "\u001b[3m      \u001b[0m\u001b[3;32mBoard\u001b[0m\u001b[3m      \u001b[0m\n",
       "╭────┬─────┬────╮\n",
       "│  1 │     │    │\n",
       "├────┼─────┼────┤\n",
       "│  0 │  10 │  0 │\n",
       "├────┼─────┼────┤\n",
       "│  1 │     │    │\n",
       "╰────┴─────┴────╯\n"
      ]
     },
     "metadata": {},
     "output_type": "display_data"
    },
    {
     "data": {
      "text/html": [
       "<pre style=\"white-space:pre;overflow-x:auto;line-height:normal;font-family:Menlo,'DejaVu Sans Mono',consolas,'Courier New',monospace\">\n",
       "<span style=\"color: #008000; text-decoration-color: #008000\"> Enter the number of the cell you want to mark or </span><span style=\"color: #008000; text-decoration-color: #008000\">'CX (cell 1) (cell 2)'</span><span style=\"color: #008000; text-decoration-color: #008000\"> to entangle or </span><span style=\"color: #008000; text-decoration-color: #008000\">'M'</span><span style=\"color: #008000; text-decoration-color: #008000\"> </span>\n",
       "<span style=\"color: #008000; text-decoration-color: #008000\">to measure: </span>\n",
       "</pre>\n"
      ],
      "text/plain": [
       "\n",
       "\u001b[32m Enter the number of the cell you want to mark or \u001b[0m\u001b[32m'CX \u001b[0m\u001b[32m(\u001b[0m\u001b[32mcell 1\u001b[0m\u001b[32m)\u001b[0m\u001b[32m \u001b[0m\u001b[32m(\u001b[0m\u001b[32mcell 2\u001b[0m\u001b[32m)\u001b[0m\u001b[32m'\u001b[0m\u001b[32m to entangle or \u001b[0m\u001b[32m'M'\u001b[0m\u001b[32m \u001b[0m\n",
       "\u001b[32mto measure: \u001b[0m\n"
      ]
     },
     "metadata": {},
     "output_type": "display_data"
    },
    {
     "data": {
      "text/html": [
       "<pre style=\"white-space:pre;overflow-x:auto;line-height:normal;font-family:Menlo,'DejaVu Sans Mono',consolas,'Courier New',monospace\">\n",
       "\n",
       "</pre>\n"
      ],
      "text/plain": [
       "\n",
       "\n"
      ]
     },
     "metadata": {},
     "output_type": "display_data"
    },
    {
     "data": {
      "text/html": [
       "<pre style=\"white-space:pre;overflow-x:auto;line-height:normal;font-family:Menlo,'DejaVu Sans Mono',consolas,'Courier New',monospace\"><span style=\"color: #800000; text-decoration-color: #800000; font-weight: bold\">TURN: ⭕</span>\n",
       "</pre>\n"
      ],
      "text/plain": [
       "\u001b[1;31mTURN: ⭕\u001b[0m\n"
      ]
     },
     "metadata": {},
     "output_type": "display_data"
    },
    {
     "data": {
      "text/html": [
       "<pre style=\"white-space:pre;overflow-x:auto;line-height:normal;font-family:Menlo,'DejaVu Sans Mono',consolas,'Courier New',monospace\"><span style=\"font-style: italic\">      </span><span style=\"color: #008000; text-decoration-color: #008000; font-style: italic\">Board</span><span style=\"font-style: italic\">      </span>\n",
       "╭────┬─────┬────╮\n",
       "│  1 │     │  1 │\n",
       "├────┼─────┼────┤\n",
       "│  0 │  10 │  0 │\n",
       "├────┼─────┼────┤\n",
       "│  1 │     │    │\n",
       "╰────┴─────┴────╯\n",
       "</pre>\n"
      ],
      "text/plain": [
       "\u001b[3m      \u001b[0m\u001b[3;32mBoard\u001b[0m\u001b[3m      \u001b[0m\n",
       "╭────┬─────┬────╮\n",
       "│  1 │     │  1 │\n",
       "├────┼─────┼────┤\n",
       "│  0 │  10 │  0 │\n",
       "├────┼─────┼────┤\n",
       "│  1 │     │    │\n",
       "╰────┴─────┴────╯\n"
      ]
     },
     "metadata": {},
     "output_type": "display_data"
    },
    {
     "data": {
      "text/html": [
       "<pre style=\"white-space:pre;overflow-x:auto;line-height:normal;font-family:Menlo,'DejaVu Sans Mono',consolas,'Courier New',monospace\">\n",
       "<span style=\"color: #008000; text-decoration-color: #008000\"> Enter the number of the cell you want to mark or </span><span style=\"color: #008000; text-decoration-color: #008000\">'CX (cell 1) (cell 2)'</span><span style=\"color: #008000; text-decoration-color: #008000\"> to entangle or </span><span style=\"color: #008000; text-decoration-color: #008000\">'M'</span><span style=\"color: #008000; text-decoration-color: #008000\"> </span>\n",
       "<span style=\"color: #008000; text-decoration-color: #008000\">to measure: </span>\n",
       "</pre>\n"
      ],
      "text/plain": [
       "\n",
       "\u001b[32m Enter the number of the cell you want to mark or \u001b[0m\u001b[32m'CX \u001b[0m\u001b[32m(\u001b[0m\u001b[32mcell 1\u001b[0m\u001b[32m)\u001b[0m\u001b[32m \u001b[0m\u001b[32m(\u001b[0m\u001b[32mcell 2\u001b[0m\u001b[32m)\u001b[0m\u001b[32m'\u001b[0m\u001b[32m to entangle or \u001b[0m\u001b[32m'M'\u001b[0m\u001b[32m \u001b[0m\n",
       "\u001b[32mto measure: \u001b[0m\n"
      ]
     },
     "metadata": {},
     "output_type": "display_data"
    },
    {
     "data": {
      "text/html": [
       "<pre style=\"white-space:pre;overflow-x:auto;line-height:normal;font-family:Menlo,'DejaVu Sans Mono',consolas,'Courier New',monospace\">\n",
       "\n",
       "</pre>\n"
      ],
      "text/plain": [
       "\n",
       "\n"
      ]
     },
     "metadata": {},
     "output_type": "display_data"
    },
    {
     "data": {
      "text/html": [
       "<pre style=\"white-space:pre;overflow-x:auto;line-height:normal;font-family:Menlo,'DejaVu Sans Mono',consolas,'Courier New',monospace\"><span style=\"color: #800000; text-decoration-color: #800000; font-weight: bold\">TURN: ❌</span>\n",
       "</pre>\n"
      ],
      "text/plain": [
       "\u001b[1;31mTURN: ❌\u001b[0m\n"
      ]
     },
     "metadata": {},
     "output_type": "display_data"
    },
    {
     "data": {
      "text/html": [
       "<pre style=\"white-space:pre;overflow-x:auto;line-height:normal;font-family:Menlo,'DejaVu Sans Mono',consolas,'Courier New',monospace\"><span style=\"font-style: italic\">      </span><span style=\"color: #008000; text-decoration-color: #008000; font-style: italic\">Board</span><span style=\"font-style: italic\">      </span>\n",
       "╭────┬─────┬────╮\n",
       "│  1 │     │  1 │\n",
       "├────┼─────┼────┤\n",
       "│  0 │  10 │  0 │\n",
       "├────┼─────┼────┤\n",
       "│  1 │  0  │    │\n",
       "╰────┴─────┴────╯\n",
       "</pre>\n"
      ],
      "text/plain": [
       "\u001b[3m      \u001b[0m\u001b[3;32mBoard\u001b[0m\u001b[3m      \u001b[0m\n",
       "╭────┬─────┬────╮\n",
       "│  1 │     │  1 │\n",
       "├────┼─────┼────┤\n",
       "│  0 │  10 │  0 │\n",
       "├────┼─────┼────┤\n",
       "│  1 │  0  │    │\n",
       "╰────┴─────┴────╯\n"
      ]
     },
     "metadata": {},
     "output_type": "display_data"
    },
    {
     "data": {
      "text/html": [
       "<pre style=\"white-space:pre;overflow-x:auto;line-height:normal;font-family:Menlo,'DejaVu Sans Mono',consolas,'Courier New',monospace\">\n",
       "<span style=\"color: #008000; text-decoration-color: #008000\"> Enter the number of the cell you want to mark or </span><span style=\"color: #008000; text-decoration-color: #008000\">'CX (cell 1) (cell 2)'</span><span style=\"color: #008000; text-decoration-color: #008000\"> to entangle or </span><span style=\"color: #008000; text-decoration-color: #008000\">'M'</span><span style=\"color: #008000; text-decoration-color: #008000\"> </span>\n",
       "<span style=\"color: #008000; text-decoration-color: #008000\">to measure: </span>\n",
       "</pre>\n"
      ],
      "text/plain": [
       "\n",
       "\u001b[32m Enter the number of the cell you want to mark or \u001b[0m\u001b[32m'CX \u001b[0m\u001b[32m(\u001b[0m\u001b[32mcell 1\u001b[0m\u001b[32m)\u001b[0m\u001b[32m \u001b[0m\u001b[32m(\u001b[0m\u001b[32mcell 2\u001b[0m\u001b[32m)\u001b[0m\u001b[32m'\u001b[0m\u001b[32m to entangle or \u001b[0m\u001b[32m'M'\u001b[0m\u001b[32m \u001b[0m\n",
       "\u001b[32mto measure: \u001b[0m\n"
      ]
     },
     "metadata": {},
     "output_type": "display_data"
    },
    {
     "data": {
      "text/html": [
       "<pre style=\"white-space:pre;overflow-x:auto;line-height:normal;font-family:Menlo,'DejaVu Sans Mono',consolas,'Courier New',monospace\">\n",
       "\n",
       "</pre>\n"
      ],
      "text/plain": [
       "\n",
       "\n"
      ]
     },
     "metadata": {},
     "output_type": "display_data"
    },
    {
     "data": {
      "text/html": [
       "<pre style=\"white-space:pre;overflow-x:auto;line-height:normal;font-family:Menlo,'DejaVu Sans Mono',consolas,'Courier New',monospace\"><span style=\"color: #800000; text-decoration-color: #800000; font-weight: bold\">TURN: ⭕</span>\n",
       "</pre>\n"
      ],
      "text/plain": [
       "\u001b[1;31mTURN: ⭕\u001b[0m\n"
      ]
     },
     "metadata": {},
     "output_type": "display_data"
    },
    {
     "data": {
      "text/html": [
       "<pre style=\"white-space:pre;overflow-x:auto;line-height:normal;font-family:Menlo,'DejaVu Sans Mono',consolas,'Courier New',monospace\"><span style=\"font-style: italic\">      </span><span style=\"color: #008000; text-decoration-color: #008000; font-style: italic\">Board</span><span style=\"font-style: italic\">      </span>\n",
       "╭────┬─────┬────╮\n",
       "│  1 │     │  1 │\n",
       "├────┼─────┼────┤\n",
       "│  0 │  10 │  0 │\n",
       "├────┼─────┼────┤\n",
       "│  1 │  0  │  1 │\n",
       "╰────┴─────┴────╯\n",
       "</pre>\n"
      ],
      "text/plain": [
       "\u001b[3m      \u001b[0m\u001b[3;32mBoard\u001b[0m\u001b[3m      \u001b[0m\n",
       "╭────┬─────┬────╮\n",
       "│  1 │     │  1 │\n",
       "├────┼─────┼────┤\n",
       "│  0 │  10 │  0 │\n",
       "├────┼─────┼────┤\n",
       "│  1 │  0  │  1 │\n",
       "╰────┴─────┴────╯\n"
      ]
     },
     "metadata": {},
     "output_type": "display_data"
    },
    {
     "data": {
      "text/html": [
       "<pre style=\"white-space:pre;overflow-x:auto;line-height:normal;font-family:Menlo,'DejaVu Sans Mono',consolas,'Courier New',monospace\">\n",
       "<span style=\"color: #008000; text-decoration-color: #008000\"> Enter the number of the cell you want to mark or </span><span style=\"color: #008000; text-decoration-color: #008000\">'CX (cell 1) (cell 2)'</span><span style=\"color: #008000; text-decoration-color: #008000\"> to entangle or </span><span style=\"color: #008000; text-decoration-color: #008000\">'M'</span><span style=\"color: #008000; text-decoration-color: #008000\"> </span>\n",
       "<span style=\"color: #008000; text-decoration-color: #008000\">to measure: </span>\n",
       "</pre>\n"
      ],
      "text/plain": [
       "\n",
       "\u001b[32m Enter the number of the cell you want to mark or \u001b[0m\u001b[32m'CX \u001b[0m\u001b[32m(\u001b[0m\u001b[32mcell 1\u001b[0m\u001b[32m)\u001b[0m\u001b[32m \u001b[0m\u001b[32m(\u001b[0m\u001b[32mcell 2\u001b[0m\u001b[32m)\u001b[0m\u001b[32m'\u001b[0m\u001b[32m to entangle or \u001b[0m\u001b[32m'M'\u001b[0m\u001b[32m \u001b[0m\n",
       "\u001b[32mto measure: \u001b[0m\n"
      ]
     },
     "metadata": {},
     "output_type": "display_data"
    },
    {
     "data": {
      "text/html": [
       "<pre style=\"white-space:pre;overflow-x:auto;line-height:normal;font-family:Menlo,'DejaVu Sans Mono',consolas,'Courier New',monospace\">\n",
       "\n",
       "</pre>\n"
      ],
      "text/plain": [
       "\n",
       "\n"
      ]
     },
     "metadata": {},
     "output_type": "display_data"
    },
    {
     "data": {
      "text/html": [
       "<pre style=\"white-space:pre;overflow-x:auto;line-height:normal;font-family:Menlo,'DejaVu Sans Mono',consolas,'Courier New',monospace\"><span style=\"color: #800000; text-decoration-color: #800000; font-weight: bold\">TURN: ❌</span>\n",
       "</pre>\n"
      ],
      "text/plain": [
       "\u001b[1;31mTURN: ❌\u001b[0m\n"
      ]
     },
     "metadata": {},
     "output_type": "display_data"
    },
    {
     "data": {
      "text/html": [
       "<pre style=\"white-space:pre;overflow-x:auto;line-height:normal;font-family:Menlo,'DejaVu Sans Mono',consolas,'Courier New',monospace\"><span style=\"font-style: italic\">      </span><span style=\"color: #008000; text-decoration-color: #008000; font-style: italic\">Board</span><span style=\"font-style: italic\">      </span>\n",
       "╭────┬─────┬────╮\n",
       "│  1 │  0  │  1 │\n",
       "├────┼─────┼────┤\n",
       "│  0 │  10 │  0 │\n",
       "├────┼─────┼────┤\n",
       "│  1 │  0  │  1 │\n",
       "╰────┴─────┴────╯\n",
       "</pre>\n"
      ],
      "text/plain": [
       "\u001b[3m      \u001b[0m\u001b[3;32mBoard\u001b[0m\u001b[3m      \u001b[0m\n",
       "╭────┬─────┬────╮\n",
       "│  1 │  0  │  1 │\n",
       "├────┼─────┼────┤\n",
       "│  0 │  10 │  0 │\n",
       "├────┼─────┼────┤\n",
       "│  1 │  0  │  1 │\n",
       "╰────┴─────┴────╯\n"
      ]
     },
     "metadata": {},
     "output_type": "display_data"
    },
    {
     "data": {
      "text/html": [
       "<pre style=\"white-space:pre;overflow-x:auto;line-height:normal;font-family:Menlo,'DejaVu Sans Mono',consolas,'Courier New',monospace\">\n",
       "<span style=\"color: #008000; text-decoration-color: #008000\"> Enter the number of the cell you want to mark or </span><span style=\"color: #008000; text-decoration-color: #008000\">'CX (cell 1) (cell 2)'</span><span style=\"color: #008000; text-decoration-color: #008000\"> to entangle or </span><span style=\"color: #008000; text-decoration-color: #008000\">'M'</span><span style=\"color: #008000; text-decoration-color: #008000\"> </span>\n",
       "<span style=\"color: #008000; text-decoration-color: #008000\">to measure: </span>\n",
       "</pre>\n"
      ],
      "text/plain": [
       "\n",
       "\u001b[32m Enter the number of the cell you want to mark or \u001b[0m\u001b[32m'CX \u001b[0m\u001b[32m(\u001b[0m\u001b[32mcell 1\u001b[0m\u001b[32m)\u001b[0m\u001b[32m \u001b[0m\u001b[32m(\u001b[0m\u001b[32mcell 2\u001b[0m\u001b[32m)\u001b[0m\u001b[32m'\u001b[0m\u001b[32m to entangle or \u001b[0m\u001b[32m'M'\u001b[0m\u001b[32m \u001b[0m\n",
       "\u001b[32mto measure: \u001b[0m\n"
      ]
     },
     "metadata": {},
     "output_type": "display_data"
    },
    {
     "data": {
      "text/html": [
       "<pre style=\"white-space:pre;overflow-x:auto;line-height:normal;font-family:Menlo,'DejaVu Sans Mono',consolas,'Courier New',monospace\">\n",
       "\n",
       "</pre>\n"
      ],
      "text/plain": [
       "\n",
       "\n"
      ]
     },
     "metadata": {},
     "output_type": "display_data"
    },
    {
     "data": {
      "text/html": [
       "<pre style=\"white-space:pre;overflow-x:auto;line-height:normal;font-family:Menlo,'DejaVu Sans Mono',consolas,'Courier New',monospace\"><span style=\"color: #800000; text-decoration-color: #800000; font-weight: bold\">TURN: ⭕</span>\n",
       "</pre>\n"
      ],
      "text/plain": [
       "\u001b[1;31mTURN: ⭕\u001b[0m\n"
      ]
     },
     "metadata": {},
     "output_type": "display_data"
    },
    {
     "data": {
      "text/html": [
       "<pre style=\"white-space:pre;overflow-x:auto;line-height:normal;font-family:Menlo,'DejaVu Sans Mono',consolas,'Courier New',monospace\"><span style=\"font-style: italic\">            </span><span style=\"color: #008000; text-decoration-color: #008000; font-style: italic\">Board</span><span style=\"font-style: italic\">            </span>\n",
       "╭────┬───────────┬──────────╮\n",
       "│  1 │     0     │     1    │\n",
       "├────┼───────────┼──────────┤\n",
       "│  0 │  10(CX45) │  0(CX45) │\n",
       "├────┼───────────┼──────────┤\n",
       "│  1 │     0     │     1    │\n",
       "╰────┴───────────┴──────────╯\n",
       "</pre>\n"
      ],
      "text/plain": [
       "\u001b[3m            \u001b[0m\u001b[3;32mBoard\u001b[0m\u001b[3m            \u001b[0m\n",
       "╭────┬───────────┬──────────╮\n",
       "│  1 │     0     │     1    │\n",
       "├────┼───────────┼──────────┤\n",
       "│  0 │  10(CX45) │  0(CX45) │\n",
       "├────┼───────────┼──────────┤\n",
       "│  1 │     0     │     1    │\n",
       "╰────┴───────────┴──────────╯\n"
      ]
     },
     "metadata": {},
     "output_type": "display_data"
    },
    {
     "data": {
      "text/html": [
       "<pre style=\"white-space:pre;overflow-x:auto;line-height:normal;font-family:Menlo,'DejaVu Sans Mono',consolas,'Courier New',monospace\">\n",
       "<span style=\"color: #008000; text-decoration-color: #008000\"> Enter the number of the cell you want to mark or </span><span style=\"color: #008000; text-decoration-color: #008000\">'CX (cell 1) (cell 2)'</span><span style=\"color: #008000; text-decoration-color: #008000\"> to entangle or </span><span style=\"color: #008000; text-decoration-color: #008000\">'M'</span><span style=\"color: #008000; text-decoration-color: #008000\"> </span>\n",
       "<span style=\"color: #008000; text-decoration-color: #008000\">to measure: </span>\n",
       "</pre>\n"
      ],
      "text/plain": [
       "\n",
       "\u001b[32m Enter the number of the cell you want to mark or \u001b[0m\u001b[32m'CX \u001b[0m\u001b[32m(\u001b[0m\u001b[32mcell 1\u001b[0m\u001b[32m)\u001b[0m\u001b[32m \u001b[0m\u001b[32m(\u001b[0m\u001b[32mcell 2\u001b[0m\u001b[32m)\u001b[0m\u001b[32m'\u001b[0m\u001b[32m to entangle or \u001b[0m\u001b[32m'M'\u001b[0m\u001b[32m \u001b[0m\n",
       "\u001b[32mto measure: \u001b[0m\n"
      ]
     },
     "metadata": {},
     "output_type": "display_data"
    },
    {
     "data": {
      "text/html": [
       "<pre style=\"white-space:pre;overflow-x:auto;line-height:normal;font-family:Menlo,'DejaVu Sans Mono',consolas,'Courier New',monospace\">\n",
       "       ┌───┐┌───┐           ┌─┐                 \n",
       "q0_0: ┤ X ├┤ H ├───────────┤M├─────────────────\n",
       "      ├───┤└───┘┌─┐        └╥┘                 \n",
       "q0_1: ┤ H ├─────┤M├─────────╫──────────────────\n",
       "      ├───┤┌───┐└╥┘         ║ ┌─┐              \n",
       "q0_2: ┤ X ├┤ H ├─╫──────────╫─┤M├──────────────\n",
       "      ├───┤└───┘ ║ ┌─┐      ║ └╥┘              \n",
       "q0_3: ┤ H ├──────╫─┤M├──────╫──╫───────────────\n",
       "      ├───┤┌───┐ ║ └╥┘┌───┐ ║  ║         ┌─┐   \n",
       "q0_4: ┤ X ├┤ H ├─╫──╫─┤ H ├─╫──╫───■─────┤M├───\n",
       "      ├───┤└───┘ ║  ║ └───┘ ║  ║ ┌─┴─┐   └╥┘┌─┐\n",
       "q0_5: ┤ H ├──────╫──╫───────╫──╫─┤ X ├────╫─┤M├\n",
       "      ├───┤┌───┐ ║  ║       ║  ║ └┬─┬┘    ║ └╥┘\n",
       "q0_6: ┤ X ├┤ H ├─╫──╫───────╫──╫──┤M├─────╫──╫─\n",
       "      ├───┤└───┘ ║  ║  ┌─┐  ║  ║  └╥┘     ║  ║ \n",
       "q0_7: ┤ H ├──────╫──╫──┤M├──╫──╫───╫──────╫──╫─\n",
       "      ├───┤┌───┐ ║  ║  └╥┘  ║  ║   ║  ┌─┐ ║  ║ \n",
       "q0_8: ┤ X ├┤ H ├─╫──╫───╫───╫──╫───╫──┤M├─╫──╫─\n",
       "      └───┘└───┘ ║  ║   ║   ║  ║   ║  └╥┘ ║  ║ \n",
       "c0: <span style=\"color: #008080; text-decoration-color: #008080; font-weight: bold\">9</span>/═══════════╩══╩═══╩═══╩══╩═══╩═══╩══╩══╩═\n",
       "                 <span style=\"color: #008080; text-decoration-color: #008080; font-weight: bold\">1</span>  <span style=\"color: #008080; text-decoration-color: #008080; font-weight: bold\">3</span>   <span style=\"color: #008080; text-decoration-color: #008080; font-weight: bold\">7</span>   <span style=\"color: #008080; text-decoration-color: #008080; font-weight: bold\">0</span>  <span style=\"color: #008080; text-decoration-color: #008080; font-weight: bold\">2</span>   <span style=\"color: #008080; text-decoration-color: #008080; font-weight: bold\">6</span>   <span style=\"color: #008080; text-decoration-color: #008080; font-weight: bold\">8</span>  <span style=\"color: #008080; text-decoration-color: #008080; font-weight: bold\">4</span>  <span style=\"color: #008080; text-decoration-color: #008080; font-weight: bold\">5</span>  \n",
       "\n",
       "</pre>\n"
      ],
      "text/plain": [
       "\n",
       "       ┌───┐┌───┐           ┌─┐                 \n",
       "q0_0: ┤ X ├┤ H ├───────────┤M├─────────────────\n",
       "      ├───┤└───┘┌─┐        └╥┘                 \n",
       "q0_1: ┤ H ├─────┤M├─────────╫──────────────────\n",
       "      ├───┤┌───┐└╥┘         ║ ┌─┐              \n",
       "q0_2: ┤ X ├┤ H ├─╫──────────╫─┤M├──────────────\n",
       "      ├───┤└───┘ ║ ┌─┐      ║ └╥┘              \n",
       "q0_3: ┤ H ├──────╫─┤M├──────╫──╫───────────────\n",
       "      ├───┤┌───┐ ║ └╥┘┌───┐ ║  ║         ┌─┐   \n",
       "q0_4: ┤ X ├┤ H ├─╫──╫─┤ H ├─╫──╫───■─────┤M├───\n",
       "      ├───┤└───┘ ║  ║ └───┘ ║  ║ ┌─┴─┐   └╥┘┌─┐\n",
       "q0_5: ┤ H ├──────╫──╫───────╫──╫─┤ X ├────╫─┤M├\n",
       "      ├───┤┌───┐ ║  ║       ║  ║ └┬─┬┘    ║ └╥┘\n",
       "q0_6: ┤ X ├┤ H ├─╫──╫───────╫──╫──┤M├─────╫──╫─\n",
       "      ├───┤└───┘ ║  ║  ┌─┐  ║  ║  └╥┘     ║  ║ \n",
       "q0_7: ┤ H ├──────╫──╫──┤M├──╫──╫───╫──────╫──╫─\n",
       "      ├───┤┌───┐ ║  ║  └╥┘  ║  ║   ║  ┌─┐ ║  ║ \n",
       "q0_8: ┤ X ├┤ H ├─╫──╫───╫───╫──╫───╫──┤M├─╫──╫─\n",
       "      └───┘└───┘ ║  ║   ║   ║  ║   ║  └╥┘ ║  ║ \n",
       "c0: \u001b[1;36m9\u001b[0m/═══════════╩══╩═══╩═══╩══╩═══╩═══╩══╩══╩═\n",
       "                 \u001b[1;36m1\u001b[0m  \u001b[1;36m3\u001b[0m   \u001b[1;36m7\u001b[0m   \u001b[1;36m0\u001b[0m  \u001b[1;36m2\u001b[0m   \u001b[1;36m6\u001b[0m   \u001b[1;36m8\u001b[0m  \u001b[1;36m4\u001b[0m  \u001b[1;36m5\u001b[0m  \n",
       "\n"
      ]
     },
     "metadata": {},
     "output_type": "display_data"
    },
    {
     "data": {
      "text/html": [
       "<pre style=\"white-space:pre;overflow-x:auto;line-height:normal;font-family:Menlo,'DejaVu Sans Mono',consolas,'Courier New',monospace\">\n",
       "Job id: <span style=\"color: #ffff00; text-decoration-color: #ffff00\">7f951efe-8186-11ec-90bc-98af650c3379</span>\n",
       "</pre>\n"
      ],
      "text/plain": [
       "\n",
       "Job id: \u001b[93m7f951efe-8186-11ec-90bc-98af650c3379\u001b[0m\n"
      ]
     },
     "metadata": {},
     "output_type": "display_data"
    },
    {
     "name": "stdout",
     "output_type": "stream",
     "text": [
      "...................................................................."
     ]
    },
    {
     "data": {
      "text/html": [
       "<pre style=\"white-space:pre;overflow-x:auto;line-height:normal;font-family:Menlo,'DejaVu Sans Mono',consolas,'Courier New',monospace\"><span style=\"font-style: italic\">     </span><span style=\"color: #008000; text-decoration-color: #008000; font-style: italic\">Board</span><span style=\"font-style: italic\">      </span>\n",
       "╭────┬────┬────╮\n",
       "│ ❌ │ ⭕ │ ❌ │\n",
       "├────┼────┼────┤\n",
       "│ ❌ │ ⭕ │ ❌ │\n",
       "├────┼────┼────┤\n",
       "│ ❌ │ ❌ │ ❌ │\n",
       "╰────┴────┴────╯\n",
       "</pre>\n"
      ],
      "text/plain": [
       "\u001b[3m     \u001b[0m\u001b[3;32mBoard\u001b[0m\u001b[3m      \u001b[0m\n",
       "╭────┬────┬────╮\n",
       "│ ❌ │ ⭕ │ ❌ │\n",
       "├────┼────┼────┤\n",
       "│ ❌ │ ⭕ │ ❌ │\n",
       "├────┼────┼────┤\n",
       "│ ❌ │ ❌ │ ❌ │\n",
       "╰────┴────┴────╯\n"
      ]
     },
     "metadata": {},
     "output_type": "display_data"
    },
    {
     "data": {
      "text/html": [
       "<pre style=\"white-space:pre;overflow-x:auto;line-height:normal;font-family:Menlo,'DejaVu Sans Mono',consolas,'Courier New',monospace\">\n",
       "<span style=\"color: #008000; text-decoration-color: #008000; font-weight: bold\">Game Over.</span>\n",
       "\n",
       "</pre>\n"
      ],
      "text/plain": [
       "\n",
       "\u001b[1;32mGame Over.\u001b[0m\n",
       "\n"
      ]
     },
     "metadata": {},
     "output_type": "display_data"
    },
    {
     "data": {
      "text/html": [
       "<pre style=\"white-space:pre;overflow-x:auto;line-height:normal;font-family:Menlo,'DejaVu Sans Mono',consolas,'Courier New',monospace\"><span style=\"color: #008000; text-decoration-color: #008000\">❌ WINS!</span>\n",
       "</pre>\n"
      ],
      "text/plain": [
       "\u001b[32m❌ WINS!\u001b[0m\n"
      ]
     },
     "metadata": {},
     "output_type": "display_data"
    }
   ],
   "source": [
    "# Import Libraries\n",
    "from rich.console import Console, ConsoleOptions, RenderResult\n",
    "from rich.table import Table\n",
    "from rich import print\n",
    "from rich import box\n",
    "from qiskit import QuantumCircuit, ClassicalRegister, QuantumRegister\n",
    "from azure.quantum.qiskit import AzureQuantumProvider\n",
    "\n",
    "# Define provider and backend\n",
    "provider = AzureQuantumProvider (\n",
    "    resource_id = \"/subscriptions/b1d7f7f8-743f-458e-b3a0-3e09734d716d/resourceGroups/aq-hackathons/providers/Microsoft.Quantum/Workspaces/aq-hackathon-01\",\n",
    "    location = \"eastus\"\n",
    ")\n",
    "\n",
    "print([backend.name() for backend in provider.backends()])\n",
    "\n",
    "backend = provider.get_backend('ionq.simulator')\n",
    "\n",
    "\n",
    "class board:\n",
    "    # Initialize the board\n",
    "    def __init__(self) -> None:\n",
    "        self.board=[\n",
    "            [0, 0, 0],\n",
    "            [0, 0, 0],\n",
    "            [0, 0, 0]\n",
    "        ]\n",
    "\n",
    "        self.PlayerX_turn = True\n",
    "        self.board_state={\n",
    "            0: ' ',\n",
    "            1: ' ',\n",
    "            2: ' ',\n",
    "            3: ' ',\n",
    "            4: ' ',\n",
    "            5: ' ',\n",
    "            6: ' ',\n",
    "            7: ' ',\n",
    "            8: ' ',\n",
    "        }\n",
    "\n",
    "    # Measure the board\n",
    "    async def q_measure(self):\n",
    "        qr = QuantumRegister(9)\n",
    "        cr = ClassicalRegister(9)\n",
    "        qc = QuantumCircuit(qr, cr)\n",
    "\n",
    "        temp_board = self.board_state\n",
    "        while sum([len(cell_val) for cell_val in temp_board.values()]) > 0:\n",
    "            # Apply H and X gates\n",
    "            for i in range(9):\n",
    "                cell_length = len(temp_board[i])\n",
    "                for e in range(cell_length):\n",
    "                    if e >= len(temp_board[i]) or temp_board[i][0] == '(':\n",
    "                        break\n",
    "                    elif temp_board[i][0] == '1':\n",
    "                        qc.x(qr[i])\n",
    "                        qc.h(qr[i])\n",
    "                    elif temp_board[i][0] == '0':\n",
    "                        qc.h(qr[i])\n",
    "                    temp_board[i] = temp_board[i][1:]\n",
    "            \n",
    "            # Apply CX Gate\n",
    "            for i in range(9):\n",
    "                if len(temp_board[i]) == 0:\n",
    "                    continue\n",
    "                else:\n",
    "                    if temp_board[i][:3] == '(CX':\n",
    "                        cell0 = int(temp_board[i][3])\n",
    "                        cell1 = int(temp_board[i][4])\n",
    "                        qc.cx(qr[cell0], qr[cell1])\n",
    "                        temp_board[cell0] = temp_board[i][6:]\n",
    "                        temp_board[cell1] = temp_board[i][6:]\n",
    "\n",
    "        qc.measure(qr, cr)\n",
    "\n",
    "        print('\\n', qc.draw(), '\\n')\n",
    "\n",
    "        job = backend.run(qc, shots=128)\n",
    "        job_id = job.id()\n",
    "        print(f'\\nJob id: {job_id}')\n",
    "        result = job.result()\n",
    "        counts = result.get_counts()\n",
    "        sorted_counts = sorted(counts.items(), key=lambda x: x[1], reverse=True)\n",
    "        top_count = sorted_counts[0][0][::-1]\n",
    "\n",
    "        for i in range(9):\n",
    "            if top_count[i] == '1':\n",
    "                self.board_state[i] = \"⭕\"\n",
    "            else:\n",
    "                self.board_state[i] = \"❌\"\n",
    "\n",
    "    def update_board(self):\n",
    "        for i in range(3):\n",
    "            for j in range(3):\n",
    "                if self.board_state[i * 3 + j] == \"❌\":\n",
    "                    self.board[i][j] = 1\n",
    "                elif self.board_state[i * 3 + j] == \"⭕\":\n",
    "                    self.board[i][j] = -1\n",
    "                else:\n",
    "                    self.board[i][j] = 0\n",
    "    \n",
    "    # Determine winner\n",
    "    def win(self):\n",
    "        self.update_board()\n",
    "        for i in range(3):\n",
    "            for j in range(3):\n",
    "                if self.board[i][j] == 0:\n",
    "                    return False\n",
    "\n",
    "        if self.board_state[0] == self.board_state[1] == self.board_state[2] or self.board_state[0] == self.board_state[4] == self.board_state[8]\\\n",
    "            or self.board_state[0] == self.board_state[3] == self.board_state[6]:\n",
    "                print(self)\n",
    "                print(\"\\n[center][green][bold]Game Over.\\n\")\n",
    "                print(f\"[green]{self.board_state[0]} WINS!\")\n",
    "                return True\n",
    "        if self.board_state[1] == self.board_state[4] == self.board_state[7] or self.board_state[3] == self.board_state[4] == self.board_state[5]\\\n",
    "            or self.board_state[6] == self.board_state[4] == self.board_state[2]:\n",
    "                print(self)\n",
    "                print(\"\\n[center][green][bold]Game Over.\\n\")\n",
    "                print(f\"[green]{self.board_state[4]} WINS!\")\n",
    "                return True\n",
    "        if self.board_state[2] == self.board_state[5] == self.board_state[8] or self.board_state[6] == self.board_state[7] == self.board_state[8]:\n",
    "                print(self)\n",
    "                print(\"\\n[center][green][bold]Game Over.\\n\")\n",
    "                print(f\"[green]{self.board_state[8]} WINS!\")\n",
    "                return True\n",
    "        return False                 \n",
    "               \n",
    "    async def mes(self):\n",
    "        for i in range(3):\n",
    "            for j in range(3):\n",
    "                if not (self.board[i][j] == 0 and self.board_state[i * 3 + j] != \" \"):\n",
    "                    return\n",
    "        await self.q_measure()\n",
    "        self.update_board()\n",
    "\n",
    "\n",
    "    def __rich_console__(self, console: Console, options: ConsoleOptions) -> RenderResult:\n",
    "        table = Table(title=\"[green]Board\", show_header=False, show_lines=True, border_style=None, box=box.ROUNDED)\n",
    "        table.add_column(justify=\"center\")\n",
    "        table.add_column(justify=\"center\")\n",
    "        table.add_column(justify=\"center\")\n",
    "        table.add_row(self.board_state[0], self.board_state[1], self.board_state[2])\n",
    "        table.add_row(self.board_state[3], self.board_state[4], self.board_state[5])\n",
    "        table.add_row(self.board_state[6], self.board_state[7], self.board_state[8])\n",
    "        yield table\n",
    "\n",
    "        \n",
    "\n",
    "if __name__=='__main__':\n",
    "    board = board()\n",
    "\n",
    "    print(\"[bold italic black on yellow blink]Welcome to Tic Tac Toe!\\n\")\n",
    "    print(\"[bold italic green]Instructions:\")\n",
    "    print(\"0. X's turn applies an X and H gate on the\\n   position.\")\n",
    "    print(\"1. O's turn applies a H gate on the position.\")\n",
    "    print(\"2. Select the cell to take your turn (0-8). A '1'\\n   will be placed for X's turn and a '0' for O's\\n   turn.\")\n",
    "    print(\"3. Players may take their turn on existing cells\\n   to change its state.\")\n",
    "    print(\"4. To entangle two cells, players can apply the\\n   CX gate to two cells through the command\\n   CX (first cell) (second cell).\")\n",
    "    print(\"5. When a player wants to use the current state\\n   of the board to get results, they can measure it\\n   with 'm'.\")\n",
    "    print(\"6. Have fun!\\n\")\n",
    "    input(\"Press enter to continue...\")\n",
    "    print(\"\\n\")\n",
    "\n",
    "    # Decide which backend to use\n",
    "    backend_choice = None\n",
    "    while not backend_choice:\n",
    "        backend_choice_text = \" Please choose a quantum backend (1) for simulator, (2) for qpu: \"\n",
    "        print(f\"[green]{backend_choice_text}\")\n",
    "        backend_choice = input(f\"\\033[1A \\033[{len(backend_choice_text) - 1}C\")\n",
    "        if backend_choice == '1':\n",
    "            backend = provider.get_backend('ionq.simulator')\n",
    "        elif backend_choice == '2':\n",
    "            backend = provider.get_backend('ionq.qpu')\n",
    "        else:\n",
    "            backend_choice = None\n",
    "    \n",
    "    print(\"\\n\\n\\n\\n\")\n",
    "\n",
    "    # Play game\n",
    "    while not board.win():\n",
    "        print('\\n')\n",
    "        if board.PlayerX_turn:\n",
    "            print(\"[bold red]TURN: ❌\")\n",
    "        else:\n",
    "            print(\"[bold red]TURN: ⭕\")\n",
    "        print(board)\n",
    "\n",
    "        turn_text = \" Enter the number of the cell you want to mark or 'CX (cell 1) (cell 2)' to entangle or 'M' to measure: \"\n",
    "        print(f\"\\n[green]{turn_text}\")\n",
    "        inp = input(f\"\\033[1A \\033[{len(turn_text) - 1}C\")\n",
    "        if inp.lower() == \"m\":\n",
    "            await board.mes()\n",
    "            board.PlayerX_turn = not board.PlayerX_turn\n",
    "        elif inp[0:2].lower() == \"cx\":\n",
    "            inp_left = inp[3:]\n",
    "            if len(inp_left) < 3:\n",
    "                print('[red]Entanglement needs 2 specified cells.')\n",
    "            else:\n",
    "                cell0 = inp_left[0]\n",
    "                cell1 = inp_left[2]\n",
    "                if cell0 not in ['0','1','2','3','4','5','6','7','8'] or cell1 not in ['0','1','2','3','4','5','6','7','8']:\n",
    "                    print('[red]Cells must be 0-8.')\n",
    "                else:\n",
    "                    cell0 = int(cell0)\n",
    "                    cell1 = int(cell1)\n",
    "                    board.board_state[cell0] += f\"(CX{cell0}{cell1})\"\n",
    "                    board.board_state[cell1] += f\"(CX{cell0}{cell1})\"\n",
    "                    board.PlayerX_turn = not board.PlayerX_turn\n",
    "        elif inp in ['0','1','2','3','4','5','6','7','8']:\n",
    "            cell = int(inp)\n",
    "            if board.board[cell // 3][cell % 3] == 0:\n",
    "                if board.PlayerX_turn:\n",
    "                    board.board_state[cell] = board.board_state[cell] + \"1\"\n",
    "                    board.PlayerX_turn = False\n",
    "                else:\n",
    "                    board.board_state[cell] = board.board_state[cell] + \"0\"\n",
    "                    board.PlayerX_turn = True\n",
    "            else:\n",
    "                print(\"[red]This cell is already marked.\")\n",
    "        else:\n",
    "            print('[red]Invalid Input.')\n"
   ]
  }
 ],
 "metadata": {
  "interpreter": {
   "hash": "9bf743333e41296147f6a175b2ffd0bcec11fd937fe5651b295727fd77246a74"
  },
  "kernelspec": {
   "display_name": "Python 3.9.10 64-bit",
   "language": "python",
   "name": "python3"
  },
  "language_info": {
   "codemirror_mode": {
    "name": "ipython",
    "version": 3
   },
   "file_extension": ".py",
   "mimetype": "text/x-python",
   "name": "python",
   "nbconvert_exporter": "python",
   "pygments_lexer": "ipython3",
   "version": "3.9.10"
  },
  "orig_nbformat": 4
 },
 "nbformat": 4,
 "nbformat_minor": 2
}
